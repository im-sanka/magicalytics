{
 "cells": [
  {
   "cell_type": "code",
   "execution_count": 132,
   "metadata": {
    "extensions": {
     "jupyter_dashboards": {
      "version": 1,
      "views": {
       "default_view": {
        "hidden": true
       }
      }
     }
    }
   },
   "outputs": [],
   "source": [
    "# Important libraries for the dashboard\n",
    "import pandas as pd\n",
    "import numpy as np\n",
    "import matplotlib.pyplot as plt\n",
    "import seaborn as sns\n",
    "import duckdb\n",
    "\n",
    "import plotly.express as px\n",
    "\n",
    "from ipywidgets import interact, interactive, fixed, interact_manual, widgets, Dropdown\n",
    "from IPython.display import display, HTML, Image, clear_output"
   ]
  },
  {
   "cell_type": "code",
   "execution_count": 134,
   "metadata": {
    "extensions": {
     "jupyter_dashboards": {
      "version": 1,
      "views": {
       "default_view": {
        "hidden": true
       }
      }
     }
    }
   },
   "outputs": [
    {
     "ename": "InvalidInputException",
     "evalue": "Invalid Input Error: Attempting to execute an unsuccessful or closed pending query result\nError: Invalid Error: RPC 'SETUP_PLAN_FRAGMENTS' failed: recvmsg:Operation timed out (UNAVAILABLE, request id: 'db3d3ad7-0980-4b28-bd9d-6bf78be92bdc')",
     "output_type": "error",
     "traceback": [
      "\u001b[0;31m---------------------------------------------------------------------------\u001b[0m",
      "\u001b[0;31mInvalidInputException\u001b[0m                     Traceback (most recent call last)",
      "Cell \u001b[0;32mIn[134], line 6\u001b[0m\n\u001b[1;32m      4\u001b[0m cloud \u001b[38;5;241m=\u001b[39m duckdb\u001b[38;5;241m.\u001b[39mconnect(\u001b[38;5;124mf\u001b[39m\u001b[38;5;124m\"\u001b[39m\u001b[38;5;124mmd:clouddb?motherduck_token=\u001b[39m\u001b[38;5;132;01m{\u001b[39;00mmd_token\u001b[38;5;241m.\u001b[39mMD_TOKEN\u001b[38;5;132;01m}\u001b[39;00m\u001b[38;5;124m\"\u001b[39m) \n\u001b[1;32m      5\u001b[0m \u001b[38;5;66;03m# cloud = duckdb.connect(f\"md:clouddb?motherduck_token={environ['MD_TOKEN']}\") \u001b[39;00m\n\u001b[0;32m----> 6\u001b[0m data \u001b[38;5;241m=\u001b[39m \u001b[43mcloud\u001b[49m\u001b[38;5;241;43m.\u001b[39;49m\u001b[43mquery\u001b[49m\u001b[43m(\u001b[49m\u001b[38;5;124;43mf\u001b[39;49m\u001b[38;5;124;43m\"\u001b[39;49m\u001b[38;5;124;43mSELECT * FROM \u001b[39;49m\u001b[38;5;124;43m'\u001b[39;49m\u001b[38;5;124;43mclouddb.main.df2\u001b[39;49m\u001b[38;5;124;43m'\u001b[39;49m\u001b[38;5;124;43m\"\u001b[39;49m\u001b[43m)\u001b[49m\u001b[38;5;241;43m.\u001b[39;49m\u001b[43mdf\u001b[49m\u001b[43m(\u001b[49m\u001b[43m)\u001b[49m\n\u001b[1;32m      8\u001b[0m \u001b[38;5;66;03m# cloud.execute(\"LOAD motherduck\")\u001b[39;00m\n\u001b[1;32m      9\u001b[0m \u001b[38;5;66;03m# cloud.sql(\"SHOW DATABASES\").show()\u001b[39;00m\n",
      "\u001b[0;31mInvalidInputException\u001b[0m: Invalid Input Error: Attempting to execute an unsuccessful or closed pending query result\nError: Invalid Error: RPC 'SETUP_PLAN_FRAGMENTS' failed: recvmsg:Operation timed out (UNAVAILABLE, request id: 'db3d3ad7-0980-4b28-bd9d-6bf78be92bdc')"
     ]
    }
   ],
   "source": [
    "from os import environ\n",
    "# import md_token\n",
    "# Pulling the data from MotherDuck\n",
    "# cloud = duckdb.connect(f\"md:clouddb?motherduck_token={md_token.MD_TOKEN}\") \n",
    "cloud = duckdb.connect(f\"md:clouddb?motherduck_token={environ['MD_TOKEN']}\") \n",
    "data = cloud.query(f\"SELECT * FROM 'clouddb.main.df2'\").df()\n",
    "\n",
    "# cloud.execute(\"LOAD motherduck\")\n",
    "# cloud.sql(\"SHOW DATABASES\").show()"
   ]
  },
  {
   "cell_type": "markdown",
   "metadata": {
    "extensions": {
     "jupyter_dashboards": {
      "version": 1,
      "views": {
       "default_view": {
        "col": 0,
        "height": 6,
        "row": 0,
        "width": 9
       }
      }
     }
    }
   },
   "source": [
    "## Dashboard (part of Magicalytics project)\n",
    "This dashboard sample is just to test the whole pipeline and MVP for deploying the Voila dashboard online.\n",
    "The pipeline is focusing on the Extract, Transform, and Load (ETL) process.\n",
    "Analytics data is acquired from BigQuery and after some filtering, the data is pushed into MotherDuck data warehouse. This dashboard then receive the data from the cloud and visualize what is necessary.\n",
    "\n",
    "To visualize the workflow, the figure below provides how the data is ingested, cleaned, and pushed into data warehouse for production ready."
   ]
  },
  {
   "cell_type": "code",
   "execution_count": 135,
   "metadata": {
    "extensions": {
     "jupyter_dashboards": {
      "version": 1,
      "views": {
       "default_view": {
        "col": 0,
        "height": 10,
        "row": 6,
        "width": 7
       }
      }
     }
    }
   },
   "outputs": [
    {
     "data": {
      "text/html": [
       "<img src=\"https://drive.google.com/uc?export=view&id=1JFyUs_UO5Wv6LHQ1J4n8Ry-Lwslvc3nM\"/>"
      ],
      "text/plain": [
       "<IPython.core.display.Image object>"
      ]
     },
     "execution_count": 135,
     "metadata": {},
     "output_type": "execute_result"
    }
   ],
   "source": [
    "Image(url= \"https://drive.google.com/uc?export=view&id=1JFyUs_UO5Wv6LHQ1J4n8Ry-Lwslvc3nM\")\n",
    "# Image(filename='/Users/immanuelsanka/Desktop/Medium/magicalytics/images/ETL_diagram.png') "
   ]
  },
  {
   "cell_type": "code",
   "execution_count": 136,
   "metadata": {
    "extensions": {
     "jupyter_dashboards": {
      "version": 1,
      "views": {
       "default_view": {
        "col": 9,
        "height": 6,
        "row": 0,
        "width": 3
       }
      }
     }
    }
   },
   "outputs": [
    {
     "name": "stdout",
     "output_type": "stream",
     "text": [
      "Is there any missing data?\n"
     ]
    },
    {
     "data": {
      "text/plain": [
       "refresh_date     0\n",
       "region_name      0\n",
       "score            0\n",
       "term             0\n",
       "rank             0\n",
       "group_in_rank    0\n",
       "percent_gain     0\n",
       "year             0\n",
       "month            0\n",
       "day              0\n",
       "dtype: int64"
      ]
     },
     "execution_count": 136,
     "metadata": {},
     "output_type": "execute_result"
    }
   ],
   "source": [
    "# Making the query into dataframe\n",
    "# Imputation using mode value for score column\n",
    "mode_value = data['score'].mode()[0]\n",
    "data['score'].fillna(mode_value, inplace=True)\n",
    "print(\"Is there any missing data?\")\n",
    "data.isna().sum()"
   ]
  },
  {
   "cell_type": "code",
   "execution_count": 137,
   "metadata": {
    "extensions": {
     "jupyter_dashboards": {
      "version": 1,
      "views": {
       "default_view": {
        "hidden": true
       }
      }
     }
    }
   },
   "outputs": [],
   "source": [
    "# Making the datetime into the correct format\n",
    "data['refresh_date'] = pd.to_datetime(data['refresh_date'])\n",
    "data['year'] = data['refresh_date'].dt.year\n",
    "data['month'] = data['refresh_date'].dt.month\n",
    "data['day'] = data['refresh_date'].dt.day"
   ]
  },
  {
   "cell_type": "code",
   "execution_count": 138,
   "metadata": {
    "extensions": {
     "jupyter_dashboards": {
      "version": 1,
      "views": {
       "default_view": {
        "col": 7,
        "height": 10,
        "row": 6,
        "width": 5
       }
      }
     }
    }
   },
   "outputs": [
    {
     "name": "stdout",
     "output_type": "stream",
     "text": [
      "Data distribution accross specific regions and months\n"
     ]
    },
    {
     "data": {
      "image/png": "[encoded data removed]",
      "text/plain": [
       "<Figure size 640x480 with 1 Axes>"
      ]
     },
     "metadata": {},
     "output_type": "display_data"
    }
   ],
   "source": [
    "print(\"Data distribution accross specific regions and months\")\n",
    "data.groupby(['month','region_name']).size().plot(kind='barh');"
   ]
  },
  {
   "cell_type": "code",
   "execution_count": 139,
   "metadata": {
    "extensions": {
     "jupyter_dashboards": {
      "version": 1,
      "views": {
       "default_view": {
        "hidden": true
       }
      }
     }
    }
   },
   "outputs": [],
   "source": [
    "# Now we want to see how each term behave in two months across different regions in Java-Bali\n",
    "top10_data = data.groupby('term').size().reset_index(name='Count').sort_values(by='Count', ascending=False).head(10).sort_values(by='Count')#.plot(x='term',y='Count',kind='barh')\n",
    "top10 = top10_data.term.values.tolist()\n",
    "filtered_data = data[data['term'].isin(top10)]\n",
    "overall_grouped = filtered_data.groupby(['refresh_date', 'term'], as_index=False).agg({'score': 'count'})\n",
    "\n",
    "# print(overall_grouped.head(5))\n",
    "# sns.lineplot(x='refresh_date',y='score', hue='term', data=overall_grouped)\n",
    "# filtered_data"
   ]
  },
  {
   "cell_type": "code",
   "execution_count": 28,
   "metadata": {
    "extensions": {
     "jupyter_dashboards": {
      "version": 1,
      "views": {
       "default_view": {
        "col": 0,
        "height": 13,
        "row": 16,
        "width": 12
       }
      }
     }
    }
   },
   "outputs": [
    {
     "data": {
      "application/vnd.jupyter.widget-view+json": {
       "model_id": "d16389489ca7413e95c9cbcc98f6395f",
       "version_major": 2,
       "version_minor": 0
      },
      "text/plain": [
       "Dropdown(description='Region:', options=('East Java', 'Special Capital Region of Jakarta', 'Banten', 'Special …"
      ]
     },
     "metadata": {},
     "output_type": "display_data"
    },
    {
     "data": {
      "application/vnd.jupyter.widget-view+json": {
       "model_id": "978724298ac446ecab85fed31613d61c",
       "version_major": 2,
       "version_minor": 0
      },
      "text/plain": [
       "Output()"
      ]
     },
     "metadata": {},
     "output_type": "display_data"
    }
   ],
   "source": [
    "overall_grouped = filtered_data.groupby(['refresh_date', 'term', 'region_name'], as_index=False).agg({'score': 'count'})\n",
    "\n",
    "regions = filtered_data['region_name'].unique().tolist()\n",
    "\n",
    "# Create a dropdown widget for regions\n",
    "region_dropdown = widgets.Dropdown(\n",
    "    options=regions,\n",
    "    description='Region:',\n",
    "    disabled=False,\n",
    ")\n",
    "\n",
    "output = widgets.Output()  # Create an Output widget to manage display\n",
    "\n",
    "def plot_for_region(region):\n",
    "    with output:\n",
    "        # Filter data for the selected region\n",
    "        region_data = overall_grouped[overall_grouped['region_name'] == region]\n",
    "\n",
    "        # Plot\n",
    "        fig, ax = plt.subplots(figsize=(15, 4))\n",
    "        for term in top10:\n",
    "            subset = region_data[region_data['term'] == term]\n",
    "            ax.plot(subset['refresh_date'], subset['score'], label=term)\n",
    "\n",
    "        ax.set_xlabel('Refresh Date')\n",
    "        ax.set_ylabel('Score')\n",
    "        ax.set_title(f'Terms across different dates in {region} over two months')\n",
    "        ax.legend(loc='upper left')\n",
    "        ax.grid(True)\n",
    "\n",
    "        plt.tight_layout()\n",
    "        plt.show()\n",
    "\n",
    "def on_region_change(change):\n",
    "    output.clear_output(wait=True)  # Clear previous outputs\n",
    "    plot_for_region(change['new'])\n",
    "\n",
    "region_dropdown.observe(on_region_change, names='value')\n",
    "\n",
    "# Initial display\n",
    "display(region_dropdown)\n",
    "plot_for_region(regions[0])\n",
    "display(output)  # Display the Output widget"
   ]
  },
  {
   "cell_type": "code",
   "execution_count": null,
   "metadata": {
    "extensions": {
     "jupyter_dashboards": {
      "version": 1,
      "views": {
       "default_view": {
        "hidden": true
       }
      }
     }
    }
   },
   "outputs": [],
   "source": [
    "# print(\"Terms accross different dates\")\n",
    "# sns.lineplot(x='refresh_date',y='score', hue='term', data=overall_grouped)"
   ]
  },
  {
   "cell_type": "code",
   "execution_count": 142,
   "metadata": {
    "extensions": {
     "jupyter_dashboards": {
      "version": 1,
      "views": {
       "default_view": {
        "hidden": true
       }
      }
     }
    }
   },
   "outputs": [],
   "source": [
    "# # Create a variable for the threshold selection\n",
    "# threshold = widgets.IntSlider(\n",
    "#     min=0, max=1000, step=100, value=0,\n",
    "#     description='Threshold:',\n",
    "#     disabled=False,\n",
    "# )"
   ]
  },
  {
   "cell_type": "code",
   "execution_count": null,
   "metadata": {
    "extensions": {
     "jupyter_dashboards": {
      "version": 1,
      "views": {
       "default_view": {
        "hidden": true
       }
      }
     }
    }
   },
   "outputs": [],
   "source": [
    "# def plot_overall():\n",
    "#     # Group by 'refresh_date' and 'term', then count 'score'\n",
    "#     overall_grouped = filtered_data.groupby(['refresh_date', 'term'], as_index=False).agg({'score': 'count'})\n",
    "\n",
    "#     # Create a line plot\n",
    "#     fig = px.line(overall_grouped, \n",
    "#                   x='refresh_date', \n",
    "#                   y='score', \n",
    "#                   color='term',\n",
    "#                   title='Overall Term Scores Over Time',\n",
    "#                   labels={'score': 'Total Score'},\n",
    "#                   )\n",
    "#     fig.update_xaxes(showline=True, linewidth=2, linecolor='black', mirror=False)\n",
    "#     fig.update_yaxes(showline=True, linewidth=2, linecolor='black', mirror=False)\n",
    "\n",
    "#     fig.update_layout({\n",
    "#         'width': 800, # specify your width\n",
    "#         'height': 600, # specify your height\n",
    "#         'plot_bgcolor': 'white',\n",
    "#         'paper_bgcolor': 'white',\n",
    "        \n",
    "#     })\n",
    "#     fig.show()\n",
    "\n",
    "# plot_overall()"
   ]
  },
  {
   "cell_type": "code",
   "execution_count": 141,
   "metadata": {
    "extensions": {
     "jupyter_dashboards": {
      "version": 1,
      "views": {
       "default_view": {
        "hidden": true
       }
      }
     }
    }
   },
   "outputs": [],
   "source": [
    "# import bqplot as bq\n",
    "\n",
    "# grouped = filtered_data.groupby(['refresh_date', 'term','region_name'], as_index=False).agg({'score': 'count'})\n",
    "\n",
    "# x_sc = bq.DateScale()\n",
    "# y_sc = bq.LinearScale()\n",
    "\n",
    "# ax_x = bq.Axis(scale=x_sc, label='Refresh Date', grid_lines='solid')\n",
    "# ax_y = bq.Axis(scale=y_sc, orientation='vertical', label='Total Score', grid_lines='solid')\n",
    "\n",
    "# lines = bq.Lines(x=[], y=[], scales={'x': x_sc, 'y': y_sc}, colors=bq.CATEGORY10)\n",
    "\n",
    "# fig = bq.Figure(axes=[ax_x, ax_y], marks=[lines], layout={'min_width': '800px', 'min_height': '600px'}, background_style={'fill': 'white'})\n",
    "\n",
    "# def update_line(region):\n",
    "#     filtered_df = grouped[grouped['region_name'] == region]\n",
    "#     terms = filtered_df['term'].unique()\n",
    "    \n",
    "#     lines.x = [filtered_df[filtered_df['term'] == term]['refresh_date'].values for term in terms]\n",
    "#     lines.y = [filtered_df[filtered_df['term'] == term]['score'].values for term in terms]\n",
    "#     lines.labels = list(terms)\n",
    "#     lines.display_legend = True\n",
    "\n",
    "# region_dropdown = Dropdown(options=grouped['region_name'].unique(), description='Region:')\n",
    "# interact(update_line, region=region_dropdown);\n",
    "\n",
    "# fig"
   ]
  },
  {
   "cell_type": "code",
   "execution_count": null,
   "metadata": {
    "extensions": {
     "jupyter_dashboards": {
      "version": 1,
      "views": {
       "default_view": {
        "hidden": true
       }
      }
     }
    }
   },
   "outputs": [],
   "source": []
  },
  {
   "cell_type": "code",
   "execution_count": null,
   "metadata": {
    "extensions": {
     "jupyter_dashboards": {
      "version": 1,
      "views": {
       "default_view": {
        "hidden": true
       }
      }
     }
    }
   },
   "outputs": [],
   "source": []
  }
 ],
 "metadata": {
  "extensions": {
   "jupyter_dashboards": {
    "activeView": "default_view",
    "version": 1,
    "views": {
     "default_view": {
      "cellMargin": 10,
      "defaultCellHeight": 40,
      "maxColumns": 12,
      "name": "active_view",
      "type": "grid"
     }
    }
   }
  },
  "kernelspec": {
   "display_name": "Python 3 (ipykernel)",
   "language": "python",
   "name": "python3"
  },
  "language_info": {
   "codemirror_mode": {
    "name": "ipython",
    "version": 3
   },
   "file_extension": ".py",
   "mimetype": "text/x-python",
   "name": "python",
   "nbconvert_exporter": "python",
   "pygments_lexer": "ipython3",
   "version": "3.10.5"
  }
 },
 "nbformat": 4,
 "nbformat_minor": 2
}
